{
 "cells": [
  {
   "cell_type": "code",
   "execution_count": null,
   "metadata": {},
   "outputs": [],
   "source": [
    "\n",
    "描述\n",
    "\n",
    "使用python的request模組去訪問`https://jsonplaceholder.typicode.com/users` \n",
    "取得第2,3,4,5 筆資料，\n",
    "\n",
    "偵測當時日期，轉作檔名，將2345筆資料內容寫入檔案中。"
   ]
  },
  {
   "cell_type": "code",
   "execution_count": 2,
   "metadata": {},
   "outputs": [],
   "source": [
    "\"\"\"\n",
    "Http Method - get\n",
    "\n",
    "\n",
    "\"\"\"\n",
    "#引用import套件\n",
    "import requests\n",
    "#擷取該網址內容\n",
    "responseFromRemote = requests.get('https://jsonplaceholder.typicode.com/users')\n",
    "\n",
    "# 有時我們想看response的body內容\n",
    "#print(responseFromRemote.text)\n",
    "\n",
    "# 若已經能預期傳回的內容為json格式，則可以直接將其轉為python可操作的資料格式\n",
    "#print(responseFromRemote.json())\n",
    "\n",
    "#回傳值轉json格式，並指定為a\n",
    "a = responseFromRemote.json()\n",
    "\n",
    "#引用datetime\n",
    "import datetime\n",
    "nowTime = datetime.datetime.utcnow().strftime(\"%Y-%m-%d\")\n",
    "\n",
    "#引用套件\n",
    "import os\n",
    "import shutil\n",
    "\n",
    "#開啟檔案，以目前日期做檔名\n",
    "abc = open(nowTime+'.txt','w')\n",
    "abc.write(str(a[2]))\n",
    "abc.write(str(a[3]))\n",
    "abc.write(str(a[4]))\n",
    "abc.write(str(a[5]))\n",
    "# 將檔案關閉\n",
    "abc.close()\n"
   ]
  },
  {
   "cell_type": "code",
   "execution_count": null,
   "metadata": {},
   "outputs": [],
   "source": []
  }
 ],
 "metadata": {
  "kernelspec": {
   "display_name": "Python 3",
   "language": "python",
   "name": "python3"
  },
  "language_info": {
   "codemirror_mode": {
    "name": "ipython",
    "version": 3
   },
   "file_extension": ".py",
   "mimetype": "text/x-python",
   "name": "python",
   "nbconvert_exporter": "python",
   "pygments_lexer": "ipython3",
   "version": "3.7.1"
  }
 },
 "nbformat": 4,
 "nbformat_minor": 2
}
