{
 "cells": [
  {
   "cell_type": "code",
   "execution_count": null,
   "metadata": {},
   "outputs": [],
   "source": [
    "撰寫一個Flask Server， 設計一個端口為user，用戶能對此端口用get方法訪問，傳回\n",
    "\n",
    "    {\"userId\":1,\"userName\":\"xiaoming\"}"
   ]
  },
  {
   "cell_type": "code",
   "execution_count": 1,
   "metadata": {
    "scrolled": true
   },
   "outputs": [
    {
     "name": "stdout",
     "output_type": "stream",
     "text": [
      " * Serving Flask app \"__main__\" (lazy loading)\n",
      " * Environment: production\n",
      "   WARNING: Do not use the development server in a production environment.\n",
      "   Use a production WSGI server instead.\n",
      " * Debug mode: off\n"
     ]
    },
    {
     "name": "stderr",
     "output_type": "stream",
     "text": [
      " * Running on http://0.0.0.0:5000/ (Press CTRL+C to quit)\n",
      "192.168.114.1 - - [26/Dec/2018 08:41:37] \"GET /user HTTP/1.1\" 200 -\n",
      "192.168.114.1 - - [26/Dec/2018 08:41:40] \"GET /user HTTP/1.1\" 200 -\n",
      "192.168.114.1 - - [26/Dec/2018 08:41:40] \"GET /favicon.ico HTTP/1.1\" 404 -\n",
      "192.168.114.1 - - [26/Dec/2018 08:41:50] \"GET /user HTTP/1.1\" 200 -\n",
      "192.168.114.1 - - [26/Dec/2018 08:41:51] \"GET /user HTTP/1.1\" 200 -\n",
      "192.168.114.1 - - [26/Dec/2018 08:41:52] \"GET /user HTTP/1.1\" 200 -\n"
     ]
    }
   ],
   "source": [
    "\"\"\"\n",
    "get 時 回傳json\n",
    "\"\"\"\n",
    "#引用flask套件\n",
    "from flask import Flask, request, abort, jsonify\n",
    "app = Flask(__name__,static_url_path = \"/images\" , static_folder = \"./images/\" )\n",
    "\n",
    "#APP的訪問路徑\n",
    "@app.route('/user',methods=['GET'])\n",
    "def hello_world():\n",
    "    t = {'userId':1,'userName':'xiaoming'}\n",
    "    #回傳json格式\n",
    "    return jsonify(t)\n",
    "\n",
    "if __name__ == \"__main__\":\n",
    "    app.run(host='0.0.0.0')"
   ]
  },
  {
   "cell_type": "code",
   "execution_count": null,
   "metadata": {},
   "outputs": [],
   "source": []
  },
  {
   "cell_type": "code",
   "execution_count": null,
   "metadata": {},
   "outputs": [],
   "source": []
  }
 ],
 "metadata": {
  "kernelspec": {
   "display_name": "Python 3",
   "language": "python",
   "name": "python3"
  },
  "language_info": {
   "codemirror_mode": {
    "name": "ipython",
    "version": 3
   },
   "file_extension": ".py",
   "mimetype": "text/x-python",
   "name": "python",
   "nbconvert_exporter": "python",
   "pygments_lexer": "ipython3",
   "version": "3.7.1"
  }
 },
 "nbformat": 4,
 "nbformat_minor": 2
}
