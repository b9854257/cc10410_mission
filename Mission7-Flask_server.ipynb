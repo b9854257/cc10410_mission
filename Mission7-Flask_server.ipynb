{
 "cells": [
  {
   "cell_type": "code",
   "execution_count": 1,
   "metadata": {},
   "outputs": [
    {
     "ename": "SyntaxError",
     "evalue": "invalid character in identifier (<ipython-input-1-cf7f3eeb7070>, line 1)",
     "output_type": "error",
     "traceback": [
      "\u001b[0;36m  File \u001b[0;32m\"<ipython-input-1-cf7f3eeb7070>\"\u001b[0;36m, line \u001b[0;32m1\u001b[0m\n\u001b[0;31m    撰寫一個Flask Server， 設計一個端口為user，用戶能對此端口用GET方法訪問，\u001b[0m\n\u001b[0m                    ^\u001b[0m\n\u001b[0;31mSyntaxError\u001b[0m\u001b[0;31m:\u001b[0m invalid character in identifier\n"
     ]
    }
   ],
   "source": [
    "撰寫一個Flask Server， 設計一個端口為user，用戶能對此端口用GET方法訪問，\n",
    "並且挾帶query string，\n",
    "id=xxx。 若用戶傳入 id=123，則傳回json"
   ]
  },
  {
   "cell_type": "code",
   "execution_count": null,
   "metadata": {
    "scrolled": false
   },
   "outputs": [
    {
     "name": "stdout",
     "output_type": "stream",
     "text": [
      " * Serving Flask app \"__main__\" (lazy loading)\n",
      " * Environment: production\n",
      "   WARNING: Do not use the development server in a production environment.\n",
      "   Use a production WSGI server instead.\n",
      " * Debug mode: off\n"
     ]
    },
    {
     "name": "stderr",
     "output_type": "stream",
     "text": [
      " * Running on http://0.0.0.0:5000/ (Press CTRL+C to quit)\n",
      "192.168.114.1 - - [26/Dec/2018 08:59:57] \"GET /?userId=9999 HTTP/1.1\" 200 -\n",
      "192.168.114.1 - - [26/Dec/2018 09:00:02] \"GET /?userId=666 HTTP/1.1\" 200 -\n",
      "192.168.114.1 - - [26/Dec/2018 09:04:52] \"GET /?userId=45678 HTTP/1.1\" 200 -\n"
     ]
    }
   ],
   "source": [
    "\"\"\"\n",
    "flask get結合query string\n",
    "\n",
    "使用時，查詢http://192.168.114.10:5000?userId=xxx\n",
    "\n",
    "\"\"\"\n",
    "\n",
    "from flask import Flask, request, abort, jsonify\n",
    "app = Flask(__name__,static_url_path = \"/images\" , static_folder = \"./images/\" )\n",
    "\n",
    "@app.route('/',methods=['GET'])\n",
    "def hello_world():\n",
    "    t = request.args.get('userId')\n",
    "    jsonDict = {'userId':t}\n",
    "    return jsonify(jsonDict)\n",
    "\n",
    "if __name__ == \"__main__\":\n",
    "    app.run(host='0.0.0.0')"
   ]
  },
  {
   "cell_type": "code",
   "execution_count": null,
   "metadata": {},
   "outputs": [],
   "source": []
  },
  {
   "cell_type": "code",
   "execution_count": null,
   "metadata": {},
   "outputs": [],
   "source": []
  }
 ],
 "metadata": {
  "kernelspec": {
   "display_name": "Python 3",
   "language": "python",
   "name": "python3"
  },
  "language_info": {
   "codemirror_mode": {
    "name": "ipython",
    "version": 3
   },
   "file_extension": ".py",
   "mimetype": "text/x-python",
   "name": "python",
   "nbconvert_exporter": "python",
   "pygments_lexer": "ipython3",
   "version": "3.7.1"
  }
 },
 "nbformat": 4,
 "nbformat_minor": 2
}
